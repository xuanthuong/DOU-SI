{
 "cells": [
  {
   "cell_type": "code",
   "execution_count": 261,
   "metadata": {
    "collapsed": true
   },
   "outputs": [],
   "source": [
    "%matplotlib inline\n",
    "import pandas as pd\n",
    "from pandas import DataFrame\n",
    "import functools\n",
    "import glob, os\n",
    "import numpy as np\n",
    "import matplotlib\n",
    "import matplotlib.pyplot as plt\n",
    "from sklearn.feature_extraction.text import CountVectorizer, TfidfTransformer\n",
    "from sklearn.naive_bayes import MultinomialNB\n",
    "from sklearn.svm import LinearSVC\n",
    "from sklearn.metrics import confusion_matrix, precision_score\n",
    "from sklearn.pipeline import Pipeline\n",
    "from sklearn.externals import joblib"
   ]
  },
  {
   "cell_type": "code",
   "execution_count": 262,
   "metadata": {
    "collapsed": true
   },
   "outputs": [],
   "source": [
    "SIData_dir = '/Users/thuong/Documents/SI_Data'\n",
    "df_arr = []\n",
    "for f in glob.glob(os.path.join(SIData_dir, '*.csv')):\n",
    "    df_arr.append(pd.read_csv(f, encoding='latin1'))\n",
    "df = functools.reduce(lambda left, right: pd.merge(left, right, on=['BKG_NO']), df_arr)"
   ]
  },
  {
   "cell_type": "code",
   "execution_count": 263,
   "metadata": {},
   "outputs": [
    {
     "data": {
      "text/html": [
       "<div>\n",
       "<style>\n",
       "    .dataframe thead tr:only-child th {\n",
       "        text-align: right;\n",
       "    }\n",
       "\n",
       "    .dataframe thead th {\n",
       "        text-align: left;\n",
       "    }\n",
       "\n",
       "    .dataframe tbody tr th {\n",
       "        vertical-align: top;\n",
       "    }\n",
       "</style>\n",
       "<table border=\"1\" class=\"dataframe\">\n",
       "  <thead>\n",
       "    <tr style=\"text-align: right;\">\n",
       "      <th></th>\n",
       "      <th>BKG_NO</th>\n",
       "      <th>ALSO_NOTIFY</th>\n",
       "      <th>CONSIGNEE</th>\n",
       "      <th>POR</th>\n",
       "      <th>POL</th>\n",
       "      <th>POD</th>\n",
       "      <th>DEL</th>\n",
       "      <th>VESSEL</th>\n",
       "      <th>MARK</th>\n",
       "      <th>DESCRIPTION</th>\n",
       "      <th>NOTIFY</th>\n",
       "      <th>SHIPPER</th>\n",
       "    </tr>\n",
       "  </thead>\n",
       "  <tbody>\n",
       "    <tr>\n",
       "      <th>0</th>\n",
       "      <td>AAR402333700</td>\n",
       "      <td></td>\n",
       "      <td>TO ORDER</td>\n",
       "      <td>AARHUS PORT</td>\n",
       "      <td>ROTTERDAM</td>\n",
       "      <td>BEIJIAO  CHINA</td>\n",
       "      <td>BEIJIAO  CHINA</td>\n",
       "      <td>HAMMERSMITH BRIDGE 0029E</td>\n",
       "      <td>NaN</td>\n",
       "      <td>FF WHITE FISH MEAL    DANISH WHITE FISHMEAL (F...</td>\n",
       "      <td>FUZHOU PIN GUAN TRADE CO. LTD.  1720RM  17/F. ...</td>\n",
       "      <td>FF SKAGEN A/S  HAVNEVAGTVEJ 5  9990 SKAGEN  DE...</td>\n",
       "    </tr>\n",
       "    <tr>\n",
       "      <th>1</th>\n",
       "      <td>AAR402376700</td>\n",
       "      <td></td>\n",
       "      <td>BIOSEVE  5 AVENUE LA PRINCESSE  LALLA MERYEM  ...</td>\n",
       "      <td>FREDERICIA</td>\n",
       "      <td>HAMBURG</td>\n",
       "      <td>CASABLANCA</td>\n",
       "      <td>CASABLANCA</td>\n",
       "      <td>HANJIN EUROPE 0013E</td>\n",
       "      <td>NaN</td>\n",
       "      <td>1195 CLL FISH FEED    SHIPPED ON BOARD HANJIN ...</td>\n",
       "      <td>SAME AS CONSIGNEE</td>\n",
       "      <td>ALLER AQUA A/S  ALLERVEJ 130  DK-6070 CHRISTIA...</td>\n",
       "    </tr>\n",
       "    <tr>\n",
       "      <th>2</th>\n",
       "      <td>AAR402394700</td>\n",
       "      <td></td>\n",
       "      <td>TO ORDER</td>\n",
       "      <td>FREDERICIA</td>\n",
       "      <td>HAMBURG</td>\n",
       "      <td>PORT KLANG</td>\n",
       "      <td>PORT KLANG</td>\n",
       "      <td>CSCL GLOBE 0002E</td>\n",
       "      <td>NaN</td>\n",
       "      <td>DANISH FISHMEAL \"999 PRIME QUALITY\"    FREIGHT...</td>\n",
       "      <td>T.B.M. SDN.BHD.  10H-1 JALAN TUN ABDUL RAZAK  ...</td>\n",
       "      <td>NORSILDMEL AS  KJERREIDVIKEN 16  5141 FYLLINGS...</td>\n",
       "    </tr>\n",
       "    <tr>\n",
       "      <th>3</th>\n",
       "      <td>AAR402402400</td>\n",
       "      <td>* PHONE: +862258783500    FAX:   +862258783555</td>\n",
       "      <td>DSV AIR &amp; SEA CO.  LTD  SUITE 1402  NINGTAI PL...</td>\n",
       "      <td>FREDERICIA</td>\n",
       "      <td>HAMBURG</td>\n",
       "      <td>XINGANG</td>\n",
       "      <td>XINGANG</td>\n",
       "      <td>COSCO PORTUGAL 0003E</td>\n",
       "      <td>7566612656</td>\n",
       "      <td>WINDMILL PARTS</td>\n",
       "      <td>ALL INVOICE COPIES  DSV AIR &amp; SEA CO.  LTD  SU...</td>\n",
       "      <td>DSV AIR &amp; SEA A/S I101  NOKIAVEJ 30  8700 HORS...</td>\n",
       "    </tr>\n",
       "    <tr>\n",
       "      <th>4</th>\n",
       "      <td>AAR402395100</td>\n",
       "      <td>** TEL.: (886) 2 2507 7071 EXT. 223</td>\n",
       "      <td>TO ORDER</td>\n",
       "      <td>AARHUS</td>\n",
       "      <td>HAMBURG</td>\n",
       "      <td>KAOHSIUNG</td>\n",
       "      <td>KAOHSIUNG</td>\n",
       "      <td>HUMEN BRIDGE 0047E</td>\n",
       "      <td>NaN</td>\n",
       "      <td>810 BAGS DANISH FISHMEAL 999-LT     SHIPPED ON...</td>\n",
       "      <td>CHAROEN POKPHAND ENTERPRISE  (TAIWAN) CO. LTD....</td>\n",
       "      <td>NORSILDMEL AS  KJERREIDVIKEN 16  5141 FYLLINGS...</td>\n",
       "    </tr>\n",
       "  </tbody>\n",
       "</table>\n",
       "</div>"
      ],
      "text/plain": [
       "         BKG_NO                                       ALSO_NOTIFY  \\\n",
       "0  AAR402333700                                                     \n",
       "1  AAR402376700                                                     \n",
       "2  AAR402394700                                                     \n",
       "3  AAR402402400  * PHONE: +862258783500    FAX:   +862258783555     \n",
       "4  AAR402395100             ** TEL.: (886) 2 2507 7071 EXT. 223     \n",
       "\n",
       "                                           CONSIGNEE          POR        POL  \\\n",
       "0                                         TO ORDER    AARHUS PORT  ROTTERDAM   \n",
       "1  BIOSEVE  5 AVENUE LA PRINCESSE  LALLA MERYEM  ...   FREDERICIA    HAMBURG   \n",
       "2                                         TO ORDER     FREDERICIA    HAMBURG   \n",
       "3  DSV AIR & SEA CO.  LTD  SUITE 1402  NINGTAI PL...   FREDERICIA    HAMBURG   \n",
       "4                                         TO ORDER         AARHUS    HAMBURG   \n",
       "\n",
       "              POD             DEL                    VESSEL        MARK  \\\n",
       "0  BEIJIAO  CHINA  BEIJIAO  CHINA  HAMMERSMITH BRIDGE 0029E         NaN   \n",
       "1      CASABLANCA      CASABLANCA       HANJIN EUROPE 0013E         NaN   \n",
       "2      PORT KLANG      PORT KLANG          CSCL GLOBE 0002E         NaN   \n",
       "3         XINGANG         XINGANG      COSCO PORTUGAL 0003E  7566612656   \n",
       "4       KAOHSIUNG       KAOHSIUNG        HUMEN BRIDGE 0047E         NaN   \n",
       "\n",
       "                                         DESCRIPTION  \\\n",
       "0  FF WHITE FISH MEAL    DANISH WHITE FISHMEAL (F...   \n",
       "1  1195 CLL FISH FEED    SHIPPED ON BOARD HANJIN ...   \n",
       "2  DANISH FISHMEAL \"999 PRIME QUALITY\"    FREIGHT...   \n",
       "3                                     WINDMILL PARTS   \n",
       "4  810 BAGS DANISH FISHMEAL 999-LT     SHIPPED ON...   \n",
       "\n",
       "                                              NOTIFY  \\\n",
       "0  FUZHOU PIN GUAN TRADE CO. LTD.  1720RM  17/F. ...   \n",
       "1                                SAME AS CONSIGNEE     \n",
       "2  T.B.M. SDN.BHD.  10H-1 JALAN TUN ABDUL RAZAK  ...   \n",
       "3  ALL INVOICE COPIES  DSV AIR & SEA CO.  LTD  SU...   \n",
       "4  CHAROEN POKPHAND ENTERPRISE  (TAIWAN) CO. LTD....   \n",
       "\n",
       "                                             SHIPPER  \n",
       "0  FF SKAGEN A/S  HAVNEVAGTVEJ 5  9990 SKAGEN  DE...  \n",
       "1  ALLER AQUA A/S  ALLERVEJ 130  DK-6070 CHRISTIA...  \n",
       "2  NORSILDMEL AS  KJERREIDVIKEN 16  5141 FYLLINGS...  \n",
       "3  DSV AIR & SEA A/S I101  NOKIAVEJ 30  8700 HORS...  \n",
       "4  NORSILDMEL AS  KJERREIDVIKEN 16  5141 FYLLINGS...  "
      ]
     },
     "execution_count": 263,
     "metadata": {},
     "output_type": "execute_result"
    }
   ],
   "source": [
    "df.replace({'#': ' '}, regex=True, inplace=True)\n",
    "df.replace({'\\$': ' '}, regex=True, inplace=True)\n",
    "df.head(5)"
   ]
  },
  {
   "cell_type": "code",
   "execution_count": 264,
   "metadata": {
    "collapsed": true
   },
   "outputs": [],
   "source": [
    "from sklearn.feature_extraction import text\n",
    "stop_words = set(text.ENGLISH_STOP_WORDS)"
   ]
  },
  {
   "cell_type": "code",
   "execution_count": 265,
   "metadata": {
    "collapsed": true
   },
   "outputs": [],
   "source": [
    "def text_cleaning(text):\n",
    "    words = []\n",
    "    words.extend(w for w in str(text).split() \n",
    "                    if w.isalpha() and len(w) != 1 and w.lower() != 'nan' \n",
    "                                    and w.lower() not in stop_words)\n",
    "    return ' '.join(words)"
   ]
  },
  {
   "cell_type": "code",
   "execution_count": 266,
   "metadata": {
    "collapsed": true
   },
   "outputs": [],
   "source": [
    "df_data = DataFrame(columns=['Value', 'Class'])\n",
    "class_names = []\n",
    "for col in df:\n",
    "    if col != 'BKG_NO':\n",
    "        df[col] = df[col].apply(text_cleaning)\n",
    "        tmp_df = DataFrame(columns=['Value', 'Class'])\n",
    "        tmp_df['Value'] = df[col]\n",
    "        tmp_df['Class'] = col\n",
    "        df_data = df_data.append(tmp_df)\n",
    "        class_names.append(col)\n",
    "    else:\n",
    "        df[col] = df[col]\n",
    "df_data = df_data[df_data['Value'] != \"\"]\n",
    "df_data = df_data.reset_index(drop=True)"
   ]
  },
  {
   "cell_type": "code",
   "execution_count": 267,
   "metadata": {},
   "outputs": [],
   "source": [
    "df_data = df_data.reindex(np.random.permutation(df_data.index))"
   ]
  },
  {
   "cell_type": "code",
   "execution_count": 268,
   "metadata": {
    "collapsed": true
   },
   "outputs": [],
   "source": [
    "TRAIN_SIZE = 0.8\n",
    "size = int(len(df_data) * TRAIN_SIZE)\n",
    "df_train, df_test = df_data.iloc[:size], df_data.iloc[size:]"
   ]
  },
  {
   "cell_type": "code",
   "execution_count": 269,
   "metadata": {},
   "outputs": [
    {
     "name": "stdout",
     "output_type": "stream",
     "text": [
      "       ALSO_NOTIFY  CONSIGNEE     POR     POL     POD     DEL  VESSEL   MARK  \\\n",
      "Total        25312     102672  102232  102388  100899  100900  102737  44181   \n",
      "Train        20292      82272   81773   81949   80448   80697   82368  35301   \n",
      "Test          5020      20400   20459   20439   20451   20203   20369   8880   \n",
      "\n",
      "       DESCRIPTION  NOTIFY  SHIPPER  \n",
      "Total       102645  101428   102731  \n",
      "Train        82155   81121    82124  \n",
      "Test         20490   20307    20607  \n"
     ]
    }
   ],
   "source": [
    "total_amount = [len(df_data[df_data['Class'] == c]) for c in class_names]\n",
    "train_amount = [len(df_train[df_train['Class'] == c]) for c in class_names]\n",
    "test_amount = [len(df_test[df_test['Class'] == c]) for c in class_names]\n",
    "tmp_arr = np.array([total_amount, train_amount, test_amount])\n",
    "print(DataFrame(tmp_arr, ['Total', 'Train', 'Test'], class_names))"
   ]
  },
  {
   "cell_type": "code",
   "execution_count": 270,
   "metadata": {},
   "outputs": [
    {
     "name": "stdout",
     "output_type": "stream",
     "text": [
      "Confusion matrix with one-fold: \n",
      "[[ 4091   244    41    14    75   271    84    29    23   140     8]\n",
      " [   76 14492    11    15    95  4754     6     1     1   940     9]\n",
      " [   38    13  5121     2    12     4 11329  1947  1724    11     2]\n",
      " [   25    15     2 20291   128    12     1     0     2    14     0]\n",
      " [  187   228    40   258  7777   129   124    23    15    89    10]\n",
      " [  198  6472    20    17    78 12778    10     0     5   727     2]\n",
      " [   25     1  2377     1    10     2 14010  3743   279     1     2]\n",
      " [    3     0    62     0     3     1  1249 17178  1940     3     0]\n",
      " [   43     5   357     2     4     9   998  9620  9397    22     2]\n",
      " [   52   527    22    16    35   263     3     5    12 19667     5]\n",
      " [   27     2     6     0     1     1    20     3     2     2 20305]]\n",
      "Score with one-fold: 0.748393140901\n",
      "Score with one-fold: [ 0.85855194  0.65875722  0.63543864  0.98423555  0.94633731  0.7011633\n",
      "  0.50334124  0.52775815  0.70126866  0.90983531  0.99803391]\n"
     ]
    }
   ],
   "source": [
    "pipeline = Pipeline([\n",
    "                    ('vectorizer', CountVectorizer()),\n",
    "                    ('tfidf_transformer',  TfidfTransformer()),\n",
    "                    ('classifier', LinearSVC())])\n",
    "\n",
    "train_data, test_data = df_train['Value'].values, df_test['Value'].values\n",
    "train_target, test_target = df_train['Class'].values, df_test['Class'].values\n",
    "\n",
    "pipeline.fit(train_data, train_target)\n",
    "predictions = pipeline.predict(test_data)\n",
    "\n",
    "cnf_matrix = confusion_matrix(test_target, predictions)\n",
    "print('Confusion matrix with one-fold: ')\n",
    "print(cnf_matrix)\n",
    "print(\"Score with one-fold: %s\" % precision_score(test_target, predictions, average = 'weighted'))\n",
    "print(\"Score with one-fold: %s\" % precision_score(test_target, predictions, average = None))"
   ]
  },
  {
   "cell_type": "code",
   "execution_count": 271,
   "metadata": {
    "collapsed": true
   },
   "outputs": [],
   "source": [
    "new_df = df_data\n",
    "new_df[\"SentenceLength\"] = new_df['Value'].apply(lambda x: len(x.split()))"
   ]
  },
  {
   "cell_type": "code",
   "execution_count": 272,
   "metadata": {},
   "outputs": [
    {
     "name": "stdout",
     "output_type": "stream",
     "text": [
      "Max value's length: 355\n",
      "Min value's length: 1\n"
     ]
    }
   ],
   "source": [
    "print(\"Max value's length: %s\" % max(new_df[\"SentenceLength\"]))\n",
    "print(\"Min value's length: %s\" % min(new_df[\"SentenceLength\"]))"
   ]
  },
  {
   "cell_type": "code",
   "execution_count": 283,
   "metadata": {},
   "outputs": [
    {
     "data": {
      "text/plain": [
       "<matplotlib.axes._subplots.AxesSubplot at 0x1728f2ba8>"
      ]
     },
     "execution_count": 283,
     "metadata": {},
     "output_type": "execute_result"
    },
    {
     "data": {
      "image/png": "[encoded data removed]",
      "text/plain": [
       "<matplotlib.figure.Figure at 0x1938158d0>"
      ]
     },
     "metadata": {},
     "output_type": "display_data"
    }
   ],
   "source": [
    "new_df[\"SentenceLength\"].plot.hist(bins=100, xlim=(0, 40))"
   ]
  },
  {
   "cell_type": "code",
   "execution_count": 282,
   "metadata": {},
   "outputs": [
    {
     "data": {
      "text/plain": [
       "(array([  0.00000000e+00,   0.00000000e+00,   2.04946000e+05,\n",
       "          0.00000000e+00,   2.68968000e+05,   0.00000000e+00,\n",
       "          1.16088000e+05,   0.00000000e+00,   3.02540000e+04,\n",
       "          0.00000000e+00,   2.74170000e+04,   0.00000000e+00,\n",
       "          3.58990000e+04,   0.00000000e+00,   3.98040000e+04,\n",
       "          0.00000000e+00,   4.18880000e+04,   0.00000000e+00,\n",
       "          4.33430000e+04,   0.00000000e+00,   3.70010000e+04,\n",
       "          0.00000000e+00,   3.40410000e+04,   0.00000000e+00,\n",
       "          2.91940000e+04,   0.00000000e+00,   2.38360000e+04,\n",
       "          0.00000000e+00,   1.87410000e+04,   0.00000000e+00,\n",
       "          1.47490000e+04,   0.00000000e+00,   9.25900000e+03,\n",
       "          0.00000000e+00,   6.01200000e+03,   0.00000000e+00,\n",
       "          3.40000000e+03,   0.00000000e+00,   1.70700000e+03,\n",
       "          0.00000000e+00,   8.73000000e+02,   0.00000000e+00,\n",
       "          4.15000000e+02,   0.00000000e+00,   1.80000000e+02,\n",
       "          0.00000000e+00,   4.20000000e+01,   0.00000000e+00,\n",
       "          2.50000000e+01,   0.00000000e+00,   8.00000000e+00,\n",
       "          0.00000000e+00,   4.00000000e+00,   0.00000000e+00,\n",
       "          4.00000000e+00,   0.00000000e+00,   4.00000000e+00,\n",
       "          0.00000000e+00,   2.00000000e+00,   0.00000000e+00,\n",
       "          1.00000000e+00,   0.00000000e+00,   0.00000000e+00,\n",
       "          0.00000000e+00,   0.00000000e+00,   0.00000000e+00,\n",
       "          2.00000000e+00,   0.00000000e+00,   0.00000000e+00,\n",
       "          0.00000000e+00,   0.00000000e+00,   0.00000000e+00,\n",
       "          0.00000000e+00,   0.00000000e+00,   0.00000000e+00,\n",
       "          0.00000000e+00,   0.00000000e+00,   0.00000000e+00,\n",
       "          0.00000000e+00,   0.00000000e+00]),\n",
       " array([  0. ,   0.5,   1. ,   1.5,   2. ,   2.5,   3. ,   3.5,   4. ,\n",
       "          4.5,   5. ,   5.5,   6. ,   6.5,   7. ,   7.5,   8. ,   8.5,\n",
       "          9. ,   9.5,  10. ,  10.5,  11. ,  11.5,  12. ,  12.5,  13. ,\n",
       "         13.5,  14. ,  14.5,  15. ,  15.5,  16. ,  16.5,  17. ,  17.5,\n",
       "         18. ,  18.5,  19. ,  19.5,  20. ,  20.5,  21. ,  21.5,  22. ,\n",
       "         22.5,  23. ,  23.5,  24. ,  24.5,  25. ,  25.5,  26. ,  26.5,\n",
       "         27. ,  27.5,  28. ,  28.5,  29. ,  29.5,  30. ,  30.5,  31. ,\n",
       "         31.5,  32. ,  32.5,  33. ,  33.5,  34. ,  34.5,  35. ,  35.5,\n",
       "         36. ,  36.5,  37. ,  37.5,  38. ,  38.5,  39. ,  39.5,  40. ]),\n",
       " <a list of 80 Patch objects>)"
      ]
     },
     "execution_count": 282,
     "metadata": {},
     "output_type": "execute_result"
    },
    {
     "data": {
      "image/png": "[encoded data removed]",
      "text/plain": [
       "<matplotlib.figure.Figure at 0x172a2ac18>"
      ]
     },
     "metadata": {},
     "output_type": "display_data"
    }
   ],
   "source": [
    "plt.hist(new_df[\"SentenceLength\"], bins=80, range=(0, 40))\n",
    "# plt.xticks(ind, keys, rotation=45)\n",
    "# plt.ylabel('Missing Values')\n",
    "# plt.title('Number of missing values in SI documents')"
   ]
  }
 ],
 "metadata": {
  "kernelspec": {
   "display_name": "Python(nlp)",
   "language": "python",
   "name": ".nlp"
  },
  "language_info": {
   "codemirror_mode": {
    "name": "ipython",
    "version": 3
   },
   "file_extension": ".py",
   "mimetype": "text/x-python",
   "name": "python",
   "nbconvert_exporter": "python",
   "pygments_lexer": "ipython3",
   "version": "3.6.1"
  }
 },
 "nbformat": 4,
 "nbformat_minor": 2
}
