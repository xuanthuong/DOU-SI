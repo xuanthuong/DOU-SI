{
 "cells": [
  {
   "cell_type": "code",
   "execution_count": 87,
   "metadata": {
    "collapsed": true
   },
   "outputs": [],
   "source": [
    "%matplotlib inline\n",
    "import pandas as pd\n",
    "from pandas import DataFrame\n",
    "import functools\n",
    "import glob, os\n",
    "import numpy as np\n",
    "import matplotlib\n",
    "import matplotlib.pyplot as plt"
   ]
  },
  {
   "cell_type": "code",
   "execution_count": 103,
   "metadata": {
    "collapsed": true
   },
   "outputs": [],
   "source": [
    "SIData_dir = '/Users/thuong/Documents/SI_Data'\n",
    "df_arr = []\n",
    "for f in glob.glob(os.path.join(SIData_dir, '*.csv')):\n",
    "    df_arr.append(pd.read_csv(f, encoding='latin1'))\n",
    "df = functools.reduce(lambda left, right: pd.merge(left, right, on=['BKG_NO']), df_arr)"
   ]
  },
  {
   "cell_type": "code",
   "execution_count": 105,
   "metadata": {
    "collapsed": true
   },
   "outputs": [
    {
     "data": {
      "text/html": [
       "<div>\n",
       "<style>\n",
       "    .dataframe thead tr:only-child th {\n",
       "        text-align: right;\n",
       "    }\n",
       "\n",
       "    .dataframe thead th {\n",
       "        text-align: left;\n",
       "    }\n",
       "\n",
       "    .dataframe tbody tr th {\n",
       "        vertical-align: top;\n",
       "    }\n",
       "</style>\n",
       "<table border=\"1\" class=\"dataframe\">\n",
       "  <thead>\n",
       "    <tr style=\"text-align: right;\">\n",
       "      <th></th>\n",
       "      <th>BKG_NO</th>\n",
       "      <th>ALSO_NOTIFY</th>\n",
       "      <th>CONSIGNEE</th>\n",
       "      <th>POR</th>\n",
       "      <th>POL</th>\n",
       "      <th>POD</th>\n",
       "      <th>DEL</th>\n",
       "      <th>VESSEL</th>\n",
       "      <th>MARK</th>\n",
       "      <th>DESCRIPTION</th>\n",
       "      <th>NOTIFY</th>\n",
       "      <th>SHIPPER</th>\n",
       "    </tr>\n",
       "  </thead>\n",
       "  <tbody>\n",
       "    <tr>\n",
       "      <th>0</th>\n",
       "      <td>AAR402333700</td>\n",
       "      <td></td>\n",
       "      <td>TO ORDER</td>\n",
       "      <td>AARHUS PORT</td>\n",
       "      <td>ROTTERDAM</td>\n",
       "      <td>BEIJIAO  CHINA</td>\n",
       "      <td>BEIJIAO  CHINA</td>\n",
       "      <td>HAMMERSMITH BRIDGE 0029E</td>\n",
       "      <td>NaN</td>\n",
       "      <td>FF WHITE FISH MEAL    DANISH WHITE FISHMEAL (F...</td>\n",
       "      <td>FUZHOU PIN GUAN TRADE CO. LTD.  1720RM  17/F. ...</td>\n",
       "      <td>FF SKAGEN A/S  HAVNEVAGTVEJ 5  9990 SKAGEN  DE...</td>\n",
       "    </tr>\n",
       "    <tr>\n",
       "      <th>1</th>\n",
       "      <td>AAR402376700</td>\n",
       "      <td></td>\n",
       "      <td>BIOSEVE  5 AVENUE LA PRINCESSE  LALLA MERYEM  ...</td>\n",
       "      <td>FREDERICIA</td>\n",
       "      <td>HAMBURG</td>\n",
       "      <td>CASABLANCA</td>\n",
       "      <td>CASABLANCA</td>\n",
       "      <td>HANJIN EUROPE 0013E</td>\n",
       "      <td>NaN</td>\n",
       "      <td>1195 CLL FISH FEED    SHIPPED ON BOARD HANJIN ...</td>\n",
       "      <td>SAME AS CONSIGNEE</td>\n",
       "      <td>ALLER AQUA A/S  ALLERVEJ 130  DK-6070 CHRISTIA...</td>\n",
       "    </tr>\n",
       "    <tr>\n",
       "      <th>2</th>\n",
       "      <td>AAR402394700</td>\n",
       "      <td></td>\n",
       "      <td>TO ORDER</td>\n",
       "      <td>FREDERICIA</td>\n",
       "      <td>HAMBURG</td>\n",
       "      <td>PORT KLANG</td>\n",
       "      <td>PORT KLANG</td>\n",
       "      <td>CSCL GLOBE 0002E</td>\n",
       "      <td>NaN</td>\n",
       "      <td>DANISH FISHMEAL \"999 PRIME QUALITY\"    FREIGHT...</td>\n",
       "      <td>T.B.M. SDN.BHD.  10H-1 JALAN TUN ABDUL RAZAK  ...</td>\n",
       "      <td>NORSILDMEL AS  KJERREIDVIKEN 16  5141 FYLLINGS...</td>\n",
       "    </tr>\n",
       "    <tr>\n",
       "      <th>3</th>\n",
       "      <td>AAR402402400</td>\n",
       "      <td>* PHONE: +862258783500    FAX:   +862258783555</td>\n",
       "      <td>DSV AIR &amp; SEA CO.  LTD  SUITE 1402  NINGTAI PL...</td>\n",
       "      <td>FREDERICIA</td>\n",
       "      <td>HAMBURG</td>\n",
       "      <td>XINGANG</td>\n",
       "      <td>XINGANG</td>\n",
       "      <td>COSCO PORTUGAL 0003E</td>\n",
       "      <td>7566612656</td>\n",
       "      <td>WINDMILL PARTS</td>\n",
       "      <td>ALL INVOICE COPIES  DSV AIR &amp; SEA CO.  LTD  SU...</td>\n",
       "      <td>DSV AIR &amp; SEA A/S I101  NOKIAVEJ 30  8700 HORS...</td>\n",
       "    </tr>\n",
       "    <tr>\n",
       "      <th>4</th>\n",
       "      <td>AAR402395100</td>\n",
       "      <td>** TEL.: (886) 2 2507 7071 EXT. 223</td>\n",
       "      <td>TO ORDER</td>\n",
       "      <td>AARHUS</td>\n",
       "      <td>HAMBURG</td>\n",
       "      <td>KAOHSIUNG</td>\n",
       "      <td>KAOHSIUNG</td>\n",
       "      <td>HUMEN BRIDGE 0047E</td>\n",
       "      <td>NaN</td>\n",
       "      <td>810 BAGS DANISH FISHMEAL 999-LT     SHIPPED ON...</td>\n",
       "      <td>CHAROEN POKPHAND ENTERPRISE  (TAIWAN) CO. LTD....</td>\n",
       "      <td>NORSILDMEL AS  KJERREIDVIKEN 16  5141 FYLLINGS...</td>\n",
       "    </tr>\n",
       "  </tbody>\n",
       "</table>\n",
       "</div>"
      ],
      "text/plain": [
       "         BKG_NO                                       ALSO_NOTIFY  \\\n",
       "0  AAR402333700                                                     \n",
       "1  AAR402376700                                                     \n",
       "2  AAR402394700                                                     \n",
       "3  AAR402402400  * PHONE: +862258783500    FAX:   +862258783555     \n",
       "4  AAR402395100             ** TEL.: (886) 2 2507 7071 EXT. 223     \n",
       "\n",
       "                                           CONSIGNEE          POR        POL  \\\n",
       "0                                         TO ORDER    AARHUS PORT  ROTTERDAM   \n",
       "1  BIOSEVE  5 AVENUE LA PRINCESSE  LALLA MERYEM  ...   FREDERICIA    HAMBURG   \n",
       "2                                         TO ORDER     FREDERICIA    HAMBURG   \n",
       "3  DSV AIR & SEA CO.  LTD  SUITE 1402  NINGTAI PL...   FREDERICIA    HAMBURG   \n",
       "4                                         TO ORDER         AARHUS    HAMBURG   \n",
       "\n",
       "              POD             DEL                    VESSEL        MARK  \\\n",
       "0  BEIJIAO  CHINA  BEIJIAO  CHINA  HAMMERSMITH BRIDGE 0029E         NaN   \n",
       "1      CASABLANCA      CASABLANCA       HANJIN EUROPE 0013E         NaN   \n",
       "2      PORT KLANG      PORT KLANG          CSCL GLOBE 0002E         NaN   \n",
       "3         XINGANG         XINGANG      COSCO PORTUGAL 0003E  7566612656   \n",
       "4       KAOHSIUNG       KAOHSIUNG        HUMEN BRIDGE 0047E         NaN   \n",
       "\n",
       "                                         DESCRIPTION  \\\n",
       "0  FF WHITE FISH MEAL    DANISH WHITE FISHMEAL (F...   \n",
       "1  1195 CLL FISH FEED    SHIPPED ON BOARD HANJIN ...   \n",
       "2  DANISH FISHMEAL \"999 PRIME QUALITY\"    FREIGHT...   \n",
       "3                                     WINDMILL PARTS   \n",
       "4  810 BAGS DANISH FISHMEAL 999-LT     SHIPPED ON...   \n",
       "\n",
       "                                              NOTIFY  \\\n",
       "0  FUZHOU PIN GUAN TRADE CO. LTD.  1720RM  17/F. ...   \n",
       "1                                SAME AS CONSIGNEE     \n",
       "2  T.B.M. SDN.BHD.  10H-1 JALAN TUN ABDUL RAZAK  ...   \n",
       "3  ALL INVOICE COPIES  DSV AIR & SEA CO.  LTD  SU...   \n",
       "4  CHAROEN POKPHAND ENTERPRISE  (TAIWAN) CO. LTD....   \n",
       "\n",
       "                                             SHIPPER  \n",
       "0  FF SKAGEN A/S  HAVNEVAGTVEJ 5  9990 SKAGEN  DE...  \n",
       "1  ALLER AQUA A/S  ALLERVEJ 130  DK-6070 CHRISTIA...  \n",
       "2  NORSILDMEL AS  KJERREIDVIKEN 16  5141 FYLLINGS...  \n",
       "3  DSV AIR & SEA A/S I101  NOKIAVEJ 30  8700 HORS...  \n",
       "4  NORSILDMEL AS  KJERREIDVIKEN 16  5141 FYLLINGS...  "
      ]
     },
     "execution_count": 105,
     "metadata": {},
     "output_type": "execute_result"
    }
   ],
   "source": [
    "df.replace({'#': ' '}, regex=True, inplace=True)\n",
    "df.replace({'\\$': ' '}, regex=True, inplace=True)\n",
    "df.head(5)"
   ]
  },
  {
   "cell_type": "code",
   "execution_count": 106,
   "metadata": {
    "collapsed": true
   },
   "outputs": [],
   "source": [
    "from sklearn.feature_extraction import text\n",
    "stop_words = set(text.ENGLISH_STOP_WORDS)"
   ]
  },
  {
   "cell_type": "code",
   "execution_count": 107,
   "metadata": {
    "collapsed": true
   },
   "outputs": [],
   "source": [
    "def text_cleaning(text):\n",
    "    words = []\n",
    "    words.extend(w for w in str(text).split() \n",
    "                    if w.isalpha() and len(w) != 1 and w.lower() != 'nan' \n",
    "                                    and w.lower() not in stop_words)\n",
    "    return ' '.join(words)"
   ]
  },
  {
   "cell_type": "code",
   "execution_count": 108,
   "metadata": {
    "collapsed": true
   },
   "outputs": [],
   "source": [
    "for col in df:\n",
    "    if col != 'BKG_NO':\n",
    "        df[col] = df[col].apply(text_cleaning)\n",
    "    else:\n",
    "        df[col] = df[col]"
   ]
  },
  {
   "cell_type": "code",
   "execution_count": 109,
   "metadata": {
    "collapsed": true
   },
   "outputs": [],
   "source": [
    "df.replace('', np.nan, regex=True, inplace=True)"
   ]
  },
  {
   "cell_type": "code",
   "execution_count": 138,
   "metadata": {
    "collapsed": true
   },
   "outputs": [],
   "source": [
    "stat = df.apply(lambda x: sum(x.isnull()), axis=0)"
   ]
  },
  {
   "cell_type": "code",
   "execution_count": 157,
   "metadata": {},
   "outputs": [
    {
     "data": {
      "text/plain": [
       "<matplotlib.text.Text at 0x1349f27b8>"
      ]
     },
     "execution_count": 157,
     "metadata": {},
     "output_type": "execute_result"
    },
    {
     "data": {
      "image/png": "[encoded data removed]",
      "text/plain": [
       "<matplotlib.figure.Figure at 0x1651d0710>"
      ]
     },
     "metadata": {},
     "output_type": "display_data"
    }
   ],
   "source": [
    "keys = []\n",
    "values = []\n",
    "for k,v in stat.iteritems():\n",
    "    if k != \"BKG_NO\":\n",
    "        keys.append(k)\n",
    "        values.append(v)\n",
    "ind = np.arange(len(keys))\n",
    "width = 0.35\n",
    "plt.bar(ind, values, width)\n",
    "plt.xticks(ind, keys, rotation=45)\n",
    "plt.ylabel('Missing Values')\n",
    "plt.title('Number of missing values in SI documents')"
   ]
  },
  {
   "cell_type": "code",
   "execution_count": 1,
   "metadata": {
    "collapsed": true
   },
   "outputs": [],
   "source": [
    "# Phan bo chieu dai cua value ung voi tung key, min, max"
   ]
  },
  {
   "cell_type": "code",
   "execution_count": 2,
   "metadata": {
    "collapsed": true
   },
   "outputs": [],
   "source": [
    "# Phan bo chieu dai cua value tren toan dataset"
   ]
  }
 ],
 "metadata": {
  "kernelspec": {
   "display_name": "Python(nlp)",
   "language": "python",
   "name": ".nlp"
  },
  "language_info": {
   "codemirror_mode": {
    "name": "ipython",
    "version": 3
   },
   "file_extension": ".py",
   "mimetype": "text/x-python",
   "name": "python",
   "nbconvert_exporter": "python",
   "pygments_lexer": "ipython3",
   "version": "3.6.1"
  }
 },
 "nbformat": 4,
 "nbformat_minor": 2
}
