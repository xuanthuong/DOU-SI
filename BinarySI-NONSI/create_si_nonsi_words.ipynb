{
 "cells": [
  {
   "cell_type": "code",
   "execution_count": 15,
   "metadata": {
    "collapsed": true
   },
   "outputs": [],
   "source": [
    "from sklearn.feature_extraction.text import CountVectorizer\n",
    "from sklearn.feature_extraction import text\n",
    "import numpy as np\n",
    "import pandas as pd\n",
    "from pandas import DataFrame\n",
    "import os\n",
    "import glob"
   ]
  },
  {
   "cell_type": "code",
   "execution_count": 16,
   "metadata": {},
   "outputs": [],
   "source": [
    "stop_words = set(text.ENGLISH_STOP_WORDS)"
   ]
  },
  {
   "cell_type": "code",
   "execution_count": 32,
   "metadata": {},
   "outputs": [
    {
     "name": "stdout",
     "output_type": "stream",
     "text": [
      "Number of SI documents: 762\n"
     ]
    }
   ],
   "source": [
    "# Read SI data from text file\n",
    "SI_dir = '/Users/thuong/Documents/tmp_datasets/SI-NonSI-762/SI'\n",
    "SI_docs = []\n",
    "for f in glob.glob(os.path.join(SI_dir, '*.txt')):\n",
    "    with open(f, encoding=\"latin-1\") as fc:\n",
    "        all_words = []\n",
    "        for line in fc.readlines():\n",
    "            all_words.extend(w for w in line.split() \n",
    "                            if w.isalpha() and len(w) != 1 and w.lower() not in stop_words)\n",
    "        SI_docs.append(' '.join(all_words))\n",
    "print(\"Number of SI documents: %s\" % len(SI_docs))"
   ]
  },
  {
   "cell_type": "code",
   "execution_count": 33,
   "metadata": {
    "scrolled": false
   },
   "outputs": [
    {
     "name": "stdout",
     "output_type": "stream",
     "text": [
      "Number of words in SI corpus: 13377\n"
     ]
    }
   ],
   "source": [
    "# Create SI.txt file\n",
    "cv = CountVectorizer()\n",
    "cv_fit=cv.fit_transform(SI_docs)\n",
    "cv_arr = cv_fit.toarray()\n",
    "words = cv.get_feature_names()\n",
    "freq_on_corpus = cv_arr.sum(axis=0)\n",
    "num_doc_contain_word = np.count_nonzero(cv_arr, axis = 0)\n",
    "# print(words)\n",
    "# print(freq_on_corpus)\n",
    "# print(num_doc_contain_word)\n",
    "matrix = np.transpose(np.array([words, freq_on_corpus, num_doc_contain_word]))\n",
    "print(\"Number of words in SI corpus: %s\" % len(matrix))\n",
    "np.savetxt(\"SI.txt\", matrix, fmt='%1s', delimiter=\"\\t\")\n",
    "# df = DataFrame(matrix, columns=[\"word\", \"freq_on_corpus\", \"num_doc_contain_word\"])\n",
    "# print(df)"
   ]
  },
  {
   "cell_type": "code",
   "execution_count": 34,
   "metadata": {},
   "outputs": [
    {
     "name": "stdout",
     "output_type": "stream",
     "text": [
      "Number of NonSI documents: 762\n"
     ]
    }
   ],
   "source": [
    "# Read NonSI data from text file\n",
    "NonSI_dir = '/Users/thuong/Documents/tmp_datasets/SI-NonSI-762/NonSI'\n",
    "NonSI_docs = []\n",
    "for f in glob.glob(os.path.join(NonSI_dir, '*.txt')):\n",
    "    with open(f, encoding=\"latin-1\") as fc:\n",
    "        all_words = []\n",
    "        for line in fc.readlines():\n",
    "            all_words.extend(w for w in line.split() \n",
    "                            if w.isalpha() and len(w) != 1 and w.lower() not in stop_words)\n",
    "        NonSI_docs.append(' '.join(all_words))\n",
    "print(\"Number of NonSI documents: %s\" % len(NonSI_docs))"
   ]
  },
  {
   "cell_type": "code",
   "execution_count": 35,
   "metadata": {},
   "outputs": [
    {
     "name": "stdout",
     "output_type": "stream",
     "text": [
      "Number of words in NonSI corpus: 8555\n"
     ]
    }
   ],
   "source": [
    "# Create SI.txt file\n",
    "cv = CountVectorizer()\n",
    "cv_fit=cv.fit_transform(NonSI_docs)\n",
    "cv_arr = cv_fit.toarray()\n",
    "words = cv.get_feature_names()\n",
    "freq_on_corpus = cv_arr.sum(axis=0)\n",
    "num_doc_contain_word = np.count_nonzero(cv_arr, axis = 0)\n",
    "matrix = np.transpose(np.array([words, freq_on_corpus, num_doc_contain_word]))\n",
    "print(\"Number of words in NonSI corpus: %s\" % len(matrix))\n",
    "np.savetxt(\"NonSI.txt\", matrix, fmt='%1s', delimiter=\"\\t\")"
   ]
  }
 ],
 "metadata": {
  "kernelspec": {
   "display_name": "Python3(udcbot)",
   "language": "python",
   "name": ".udcbot"
  },
  "language_info": {
   "codemirror_mode": {
    "name": "ipython",
    "version": 3
   },
   "file_extension": ".py",
   "mimetype": "text/x-python",
   "name": "python",
   "nbconvert_exporter": "python",
   "pygments_lexer": "ipython3",
   "version": "3.6.1"
  }
 },
 "nbformat": 4,
 "nbformat_minor": 2
}
